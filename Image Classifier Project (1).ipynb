{
 "cells": [
  {
   "cell_type": "markdown",
   "metadata": {},
   "source": [
    "# Developing an AI application\n",
    "\n",
    "Going forward, AI algorithms will be incorporated into more and more everyday applications. For example, you might want to include an image classifier in a smart phone app. To do this, you'd use a deep learning model trained on hundreds of thousands of images as part of the overall application architecture. A large part of software development in the future will be using these types of models as common parts of applications. \n",
    "\n",
    "In this project, you'll train an image classifier to recognize different species of flowers. You can imagine using something like this in a phone app that tells you the name of the flower your camera is looking at. In practice you'd train this classifier, then export it for use in your application. We'll be using [this dataset](http://www.robots.ox.ac.uk/~vgg/data/flowers/102/index.html) of 102 flower categories, you can see a few examples below. \n",
    "\n",
    "<img src='assets/Flowers.png' width=500px>\n",
    "\n",
    "The project is broken down into multiple steps:\n",
    "\n",
    "* Load and preprocess the image dataset\n",
    "* Train the image classifier on your dataset\n",
    "* Use the trained classifier to predict image content\n",
    "\n",
    "We'll lead you through each part which you'll implement in Python.\n",
    "\n",
    "When you've completed this project, you'll have an application that can be trained on any set of labeled images. Here your network will be learning about flowers and end up as a command line application. But, what you do with your new skills depends on your imagination and effort in building a dataset. For example, imagine an app where you take a picture of a car, it tells you what the make and model is, then looks up information about it. Go build your own dataset and make something new.\n",
    "\n",
    "First up is importing the packages you'll need. It's good practice to keep all the imports at the beginning of your code. As you work through this notebook and find you need to import a package, make sure to add the import up here."
   ]
  },
  {
   "cell_type": "code",
   "execution_count": 1,
   "metadata": {},
   "outputs": [],
   "source": [
    "import numpy as np\n",
    "import json\n",
    "import torchvision\n",
    "import pandas as pd\n",
    "import matplotlib.pyplot as plt\n",
    "from PIL import Image\n",
    "import torch\n",
    "from torch import nn\n",
    "from torch import optim\n",
    "import torch.nn.functional as ff\n",
    "import torchvision.models as model\n",
    "from collections import OrderedDict\n",
    "from torchvision import datasets,transforms,models"
   ]
  },
  {
   "cell_type": "markdown",
   "metadata": {},
   "source": [
    "## Load the data\n",
    "\n",
    "Here you'll use `torchvision` to load the data ([documentation](http://pytorch.org/docs/0.3.0/torchvision/index.html)). The data should be included alongside this notebook, otherwise you can [download it here](https://s3.amazonaws.com/content.udacity-data.com/nd089/flower_data.tar.gz). The dataset is split into three parts, training, validation, and testing. For the training, you'll want to apply transformations such as random scaling, cropping, and flipping. This will help the network generalize leading to better performance. You'll also need to make sure the input data is resized to 224x224 pixels as required by the pre-trained networks.\n",
    "\n",
    "The validation and testing sets are used to measure the model's performance on data it hasn't seen yet. For this you don't want any scaling or rotation transformations, but you'll need to resize then crop the images to the appropriate size.\n",
    "\n",
    "The pre-trained networks you'll use were trained on the ImageNet dataset where each color channel was normalized separately. For all three sets you'll need to normalize the means and standard deviations of the images to what the network expects. For the means, it's `[0.485, 0.456, 0.406]` and for the standard deviations `[0.229, 0.224, 0.225]`, calculated from the ImageNet images.  These values will shift each color channel to be centered at 0 and range from -1 to 1.\n",
    " "
   ]
  },
  {
   "cell_type": "code",
   "execution_count": 2,
   "metadata": {},
   "outputs": [],
   "source": [
    "data_dir = 'flowers'\n",
    "train_dir = data_dir + '/train'\n",
    "valid_dir = data_dir + '/valid'\n",
    "test_dir = data_dir + '/test'"
   ]
  },
  {
   "cell_type": "code",
   "execution_count": 3,
   "metadata": {},
   "outputs": [],
   "source": [
    "# TODO: Define your transforms for the training, validation, and testing sets\n",
    "train_data = transforms.Compose([transforms.RandomRotation(45),\n",
    "                                      transforms.RandomResizedCrop(224),\n",
    "                                      transforms.RandomHorizontalFlip(),\n",
    "                                      transforms.ToTensor(),\n",
    "                                      transforms.Normalize([0.485, 0.456, 0.406],\n",
    "                                                           [0.229, 0.224, 0.225])])\n",
    "test_data=transforms.Compose([transforms.Resize(256),\n",
    "                                      transforms.CenterCrop(224),\n",
    "                                      transforms.ToTensor(),\n",
    "                                      transforms.Normalize([0.485, 0.456, 0.406],\n",
    "                                                           [0.229, 0.224, 0.225])])\n",
    "valid_data=transforms.Compose([transforms.Resize(256),\n",
    "                                      transforms.CenterCrop(224),\n",
    "                                      transforms.ToTensor(),\n",
    "                                      transforms.Normalize([0.485, 0.456, 0.406],\n",
    "                                                           [0.229, 0.224, 0.225])])\n",
    "\n",
    "# TODO: Load the datasets with ImageFolder\n",
    "traindf = datasets.ImageFolder(train_dir, transform = train_data)\n",
    "testdf = datasets.ImageFolder(test_dir, transform = test_data)\n",
    "validdf = datasets.ImageFolder(valid_dir, transform = valid_data)\n",
    "\n",
    "# TODO: Using the image datasets and the trainforms, define the dataloader\n",
    "traintfl = torch.utils.data.DataLoader(traindf, batch_size = 64, shuffle = True)\n",
    "testtfl = torch.utils.data.DataLoader(testdf, batch_size = 64, shuffle = True)\n",
    "validtfl = torch.utils.data.DataLoader(validdf, batch_size = 64, shuffle = True)"
   ]
  },
  {
   "cell_type": "markdown",
   "metadata": {},
   "source": [
    "### Label mapping\n",
    "\n",
    "You'll also need to load in a mapping from category label to category name. You can find this in the file `cat_to_name.json`. It's a JSON object which you can read in with the [`json` module](https://docs.python.org/2/library/json.html). This will give you a dictionary mapping the integer encoded categories to the actual names of the flowers."
   ]
  },
  {
   "cell_type": "code",
   "execution_count": 4,
   "metadata": {},
   "outputs": [],
   "source": [
    "import json\n",
    "\n",
    "with open('cat_to_name.json', 'r') as f:\n",
    "    cat_to_name = json.load(f)"
   ]
  },
  {
   "cell_type": "markdown",
   "metadata": {},
   "source": [
    "# Building and training the classifier\n",
    "\n",
    "Now that the data is ready, it's time to build and train the classifier. As usual, you should use one of the pretrained models from `torchvision.models` to get the image features. Build and train a new feed-forward classifier using those features.\n",
    "\n",
    "We're going to leave this part up to you. Refer to [the rubric](https://review.udacity.com/#!/rubrics/1663/view) for guidance on successfully completing this section. Things you'll need to do:\n",
    "\n",
    "* Load a [pre-trained network](http://pytorch.org/docs/master/torchvision/models.html) (If you need a starting point, the VGG networks work great and are straightforward to use)\n",
    "* Define a new, untrained feed-forward network as a classifier, using ReLU activations and dropout\n",
    "* Train the classifier layers using backpropagation using the pre-trained network to get the features\n",
    "* Track the loss and accuracy on the validation set to determine the best hyperparameters\n",
    "\n",
    "We've left a cell open for you below, but use as many as you need. Our advice is to break the problem up into smaller parts you can run separately. Check that each part is doing what you expect, then move on to the next. You'll likely find that as you work through each part, you'll need to go back and modify your previous code. This is totally normal!\n",
    "\n",
    "When training make sure you're updating only the weights of the feed-forward network. You should be able to get the validation accuracy above 70% if you build everything right. Make sure to try different hyperparameters (learning rate, units in the classifier, epochs, etc) to find the best model. Save those hyperparameters to use as default values in the next part of the project.\n",
    "\n",
    "One last important tip if you're using the workspace to run your code: To avoid having your workspace disconnect during the long-running tasks in this notebook, please read in the earlier page in this lesson called Intro to\n",
    "GPU Workspaces about Keeping Your Session Active. You'll want to include code from the workspace_utils.py module.\n",
    "\n",
    "<font color='red'>**Note for Workspace users:** If your network is over 1 GB when saved as a checkpoint, there might be issues with saving backups in your workspace. Typically this happens with wide dense layers after the convolutional layers. If your saved checkpoint is larger than 1 GB (you can open a terminal and check with `ls -lh`), you should reduce the size of your hidden layers and train again.</font>"
   ]
  },
  {
   "cell_type": "code",
   "execution_count": 8,
   "metadata": {},
   "outputs": [],
   "source": [
    "# TODO: Build and train your network\n",
    "def nn_setup(structure = 'vgg16', lr = 0.001):\n",
    "    \n",
    "    model1 = models.vgg16(pretrained = True)\n",
    "    for param in model1.parameters():\n",
    "        param.requires_grad = False\n",
    "       \n",
    "    model1.classifier = nn.Sequential(OrderedDict([\n",
    "                          ('c1', nn.Linear(25088, 2048)),\n",
    "                          ('relu', nn.ReLU()),\n",
    "                          ('c2', nn.Linear(2048, 256)),\n",
    "                          ('relu', nn.ReLU()),\n",
    "                          ('c3', nn.Linear(256, 102)),\n",
    "                          ('o/p', nn.LogSoftmax(dim=1))\n",
    "                          ]))\n",
    "    model1 = model1.to('cuda')\n",
    "    criterion = nn.NLLLoss()\n",
    "    optimizer = optim.Adam(model1.classifier.parameters(), lr)\n",
    "    \n",
    "    return model1, criterion, optimizer\n",
    "\n",
    "\n"
   ]
  },
  {
   "cell_type": "code",
   "execution_count": 9,
   "metadata": {},
   "outputs": [
    {
     "name": "stdout",
     "output_type": "stream",
     "text": [
      "<module 'torchvision.models' from '/opt/conda/lib/python3.6/site-packages/torchvision-0.2.1-py3.6.egg/torchvision/models/__init__.py'>\n"
     ]
    }
   ],
   "source": [
    "model1, criterion, optimizer = nn_setup()\n",
    "print(model)"
   ]
  },
  {
   "cell_type": "code",
   "execution_count": 10,
   "metadata": {},
   "outputs": [
    {
     "name": "stdout",
     "output_type": "stream",
     "text": [
      "Epoch 1/4.. Loss: 6.902.. VLoss: 5.316.. Acc: 0.028\n",
      "Epoch 1/4.. Loss: 5.036.. VLoss: 4.600.. Acc: 0.118\n",
      "Epoch 1/4.. Loss: 4.444.. VLoss: 3.942.. Acc: 0.144\n",
      "Epoch 1/4.. Loss: 3.818.. VLoss: 3.582.. Acc: 0.250\n",
      "Epoch 1/4.. Loss: 3.604.. VLoss: 3.331.. Acc: 0.252\n",
      "Epoch 1/4.. Loss: 3.316.. VLoss: 2.775.. Acc: 0.401\n",
      "Epoch 1/4.. Loss: 3.143.. VLoss: 2.488.. Acc: 0.446\n",
      "Epoch 1/4.. Loss: 2.747.. VLoss: 2.269.. Acc: 0.488\n",
      "Epoch 1/4.. Loss: 2.509.. VLoss: 2.238.. Acc: 0.450\n",
      "Epoch 1/4.. Loss: 2.350.. VLoss: 1.860.. Acc: 0.514\n",
      "Epoch 1/4.. Loss: 2.040.. VLoss: 1.637.. Acc: 0.569\n",
      "Epoch 1/4.. Loss: 1.976.. VLoss: 1.642.. Acc: 0.565\n",
      "Epoch 1/4.. Loss: 1.973.. VLoss: 1.508.. Acc: 0.565\n",
      "Epoch 1/4.. Loss: 1.938.. VLoss: 1.353.. Acc: 0.635\n",
      "Epoch 1/4.. Loss: 1.822.. VLoss: 1.350.. Acc: 0.626\n",
      "Epoch 1/4.. Loss: 1.824.. VLoss: 1.303.. Acc: 0.639\n",
      "Epoch 1/4.. Loss: 1.702.. VLoss: 1.185.. Acc: 0.666\n",
      "Epoch 1/4.. Loss: 1.714.. VLoss: 1.085.. Acc: 0.688\n",
      "Epoch 1/4.. Loss: 1.507.. VLoss: 1.102.. Acc: 0.685\n",
      "Epoch 1/4.. Loss: 1.561.. VLoss: 0.992.. Acc: 0.704\n",
      "Epoch 1/4.. Loss: 1.338.. VLoss: 0.943.. Acc: 0.726\n",
      "Epoch 1/4.. Loss: 1.218.. VLoss: 0.881.. Acc: 0.754\n",
      "Epoch 1/4.. Loss: 1.356.. VLoss: 0.822.. Acc: 0.775\n",
      "Epoch 1/4.. Loss: 1.408.. VLoss: 0.868.. Acc: 0.755\n",
      "Epoch 1/4.. Loss: 1.330.. VLoss: 0.933.. Acc: 0.750\n",
      "Epoch 2/4.. Loss: 0.224.. VLoss: 0.850.. Acc: 0.756\n",
      "Epoch 2/4.. Loss: 1.088.. VLoss: 0.811.. Acc: 0.772\n",
      "Epoch 2/4.. Loss: 1.227.. VLoss: 0.850.. Acc: 0.744\n",
      "Epoch 2/4.. Loss: 1.245.. VLoss: 0.860.. Acc: 0.761\n",
      "Epoch 2/4.. Loss: 1.303.. VLoss: 0.850.. Acc: 0.760\n",
      "Epoch 2/4.. Loss: 1.260.. VLoss: 0.811.. Acc: 0.759\n",
      "Epoch 2/4.. Loss: 1.206.. VLoss: 0.794.. Acc: 0.783\n",
      "Epoch 2/4.. Loss: 1.119.. VLoss: 0.789.. Acc: 0.790\n",
      "Epoch 2/4.. Loss: 1.120.. VLoss: 0.721.. Acc: 0.786\n",
      "Epoch 2/4.. Loss: 1.009.. VLoss: 0.668.. Acc: 0.805\n",
      "Epoch 2/4.. Loss: 1.183.. VLoss: 0.713.. Acc: 0.795\n",
      "Epoch 2/4.. Loss: 1.069.. VLoss: 0.763.. Acc: 0.786\n",
      "Epoch 2/4.. Loss: 1.174.. VLoss: 0.702.. Acc: 0.808\n",
      "Epoch 2/4.. Loss: 1.070.. VLoss: 0.717.. Acc: 0.792\n",
      "Epoch 2/4.. Loss: 1.196.. VLoss: 0.756.. Acc: 0.787\n",
      "Epoch 2/4.. Loss: 1.013.. VLoss: 0.677.. Acc: 0.804\n",
      "Epoch 2/4.. Loss: 1.073.. VLoss: 0.674.. Acc: 0.790\n",
      "Epoch 2/4.. Loss: 0.941.. VLoss: 0.691.. Acc: 0.787\n",
      "Epoch 2/4.. Loss: 1.295.. VLoss: 0.718.. Acc: 0.778\n",
      "Epoch 2/4.. Loss: 1.005.. VLoss: 0.673.. Acc: 0.807\n",
      "Epoch 2/4.. Loss: 1.079.. VLoss: 0.687.. Acc: 0.808\n",
      "Epoch 2/4.. Loss: 0.949.. VLoss: 0.660.. Acc: 0.813\n",
      "Epoch 2/4.. Loss: 1.083.. VLoss: 0.694.. Acc: 0.806\n",
      "Epoch 2/4.. Loss: 1.140.. VLoss: 0.641.. Acc: 0.822\n",
      "Epoch 2/4.. Loss: 0.994.. VLoss: 0.646.. Acc: 0.815\n",
      "Epoch 2/4.. Loss: 1.049.. VLoss: 0.664.. Acc: 0.818\n",
      "Epoch 3/4.. Loss: 0.425.. VLoss: 0.728.. Acc: 0.815\n",
      "Epoch 3/4.. Loss: 1.063.. VLoss: 0.715.. Acc: 0.805\n",
      "Epoch 3/4.. Loss: 0.896.. VLoss: 0.650.. Acc: 0.824\n",
      "Epoch 3/4.. Loss: 0.995.. VLoss: 0.592.. Acc: 0.837\n",
      "Epoch 3/4.. Loss: 0.880.. VLoss: 0.616.. Acc: 0.830\n",
      "Epoch 3/4.. Loss: 0.855.. VLoss: 0.568.. Acc: 0.846\n",
      "Epoch 3/4.. Loss: 0.869.. VLoss: 0.594.. Acc: 0.842\n",
      "Epoch 3/4.. Loss: 0.759.. VLoss: 0.634.. Acc: 0.824\n",
      "Epoch 3/4.. Loss: 0.927.. VLoss: 0.574.. Acc: 0.828\n",
      "Epoch 3/4.. Loss: 0.858.. VLoss: 0.587.. Acc: 0.839\n",
      "Epoch 3/4.. Loss: 0.888.. VLoss: 0.586.. Acc: 0.846\n",
      "Epoch 3/4.. Loss: 0.838.. VLoss: 0.599.. Acc: 0.830\n",
      "Epoch 3/4.. Loss: 0.977.. VLoss: 0.520.. Acc: 0.847\n",
      "Epoch 3/4.. Loss: 0.844.. VLoss: 0.581.. Acc: 0.838\n",
      "Epoch 3/4.. Loss: 0.883.. VLoss: 0.567.. Acc: 0.865\n",
      "Epoch 3/4.. Loss: 0.678.. VLoss: 0.600.. Acc: 0.849\n",
      "Epoch 3/4.. Loss: 1.067.. VLoss: 0.583.. Acc: 0.851\n",
      "Epoch 3/4.. Loss: 0.818.. VLoss: 0.647.. Acc: 0.828\n",
      "Epoch 3/4.. Loss: 0.886.. VLoss: 0.569.. Acc: 0.843\n",
      "Epoch 3/4.. Loss: 0.799.. VLoss: 0.573.. Acc: 0.848\n",
      "Epoch 3/4.. Loss: 0.905.. VLoss: 0.547.. Acc: 0.856\n",
      "Epoch 3/4.. Loss: 0.792.. VLoss: 0.604.. Acc: 0.841\n",
      "Epoch 3/4.. Loss: 0.960.. VLoss: 0.563.. Acc: 0.849\n",
      "Epoch 3/4.. Loss: 0.737.. VLoss: 0.621.. Acc: 0.834\n",
      "Epoch 3/4.. Loss: 0.924.. VLoss: 0.540.. Acc: 0.852\n",
      "Epoch 3/4.. Loss: 0.838.. VLoss: 0.561.. Acc: 0.847\n",
      "Epoch 4/4.. Loss: 0.688.. VLoss: 0.566.. Acc: 0.850\n",
      "Epoch 4/4.. Loss: 0.835.. VLoss: 0.567.. Acc: 0.842\n",
      "Epoch 4/4.. Loss: 0.820.. VLoss: 0.543.. Acc: 0.844\n",
      "Epoch 4/4.. Loss: 0.788.. VLoss: 0.548.. Acc: 0.835\n",
      "Epoch 4/4.. Loss: 0.493.. VLoss: 0.556.. Acc: 0.842\n",
      "Epoch 4/4.. Loss: 0.909.. VLoss: 0.512.. Acc: 0.873\n",
      "Epoch 4/4.. Loss: 0.779.. VLoss: 0.554.. Acc: 0.859\n",
      "Epoch 4/4.. Loss: 0.736.. VLoss: 0.577.. Acc: 0.845\n",
      "Epoch 4/4.. Loss: 0.827.. VLoss: 0.617.. Acc: 0.834\n",
      "Epoch 4/4.. Loss: 0.745.. VLoss: 0.571.. Acc: 0.851\n",
      "Epoch 4/4.. Loss: 0.623.. VLoss: 0.588.. Acc: 0.865\n",
      "Epoch 4/4.. Loss: 0.728.. VLoss: 0.642.. Acc: 0.854\n",
      "Epoch 4/4.. Loss: 0.919.. VLoss: 0.541.. Acc: 0.874\n",
      "Epoch 4/4.. Loss: 0.789.. VLoss: 0.494.. Acc: 0.876\n",
      "Epoch 4/4.. Loss: 0.823.. VLoss: 0.535.. Acc: 0.858\n",
      "Epoch 4/4.. Loss: 0.906.. VLoss: 0.523.. Acc: 0.858\n",
      "Epoch 4/4.. Loss: 0.825.. VLoss: 0.532.. Acc: 0.865\n",
      "Epoch 4/4.. Loss: 0.710.. VLoss: 0.514.. Acc: 0.867\n",
      "Epoch 4/4.. Loss: 0.680.. VLoss: 0.488.. Acc: 0.869\n",
      "Epoch 4/4.. Loss: 0.749.. VLoss: 0.477.. Acc: 0.863\n",
      "Epoch 4/4.. Loss: 0.819.. VLoss: 0.500.. Acc: 0.839\n",
      "Epoch 4/4.. Loss: 0.825.. VLoss: 0.506.. Acc: 0.850\n",
      "Epoch 4/4.. Loss: 0.820.. VLoss: 0.600.. Acc: 0.837\n",
      "Epoch 4/4.. Loss: 0.792.. VLoss: 0.571.. Acc: 0.843\n",
      "Epoch 4/4.. Loss: 0.838.. VLoss: 0.520.. Acc: 0.858\n",
      "Epoch 4/4.. Loss: 0.834.. VLoss: 0.481.. Acc: 0.870\n"
     ]
    }
   ],
   "source": [
    "n_epochs = 4\n",
    "freq = 4\n",
    "steps = 0\n",
    "loss_show = []\n",
    "\n",
    "for e in range(n_epochs):\n",
    "    running_loss = 0\n",
    "    for inputs, labels in traintfl:\n",
    "        steps += 1\n",
    "        \n",
    "        inputs, labels = inputs.to('cuda'), labels.to('cuda')\n",
    "        \n",
    "        optimizer.zero_grad()\n",
    "        \n",
    "        outputs = model1.forward(inputs)\n",
    "        loss = criterion(outputs, labels)\n",
    "        loss.backward()\n",
    "        optimizer.step()\n",
    "        \n",
    "        running_loss += loss.item()\n",
    "        \n",
    "        if steps % freq == 0:\n",
    "            model1.eval()\n",
    "            vloss = 0\n",
    "            accuracy = 0\n",
    "            with torch.no_grad():\n",
    "                for inputs, labels in validtfl:\n",
    "                    inputs, labels = inputs.to('cuda'), labels.to('cuda')\n",
    "                    \n",
    "                    log_ps = model1.forward(inputs)\n",
    "                    batch_loss = criterion(log_ps, labels)\n",
    "                    vloss += batch_loss.item()\n",
    "                    \n",
    "                    ps = torch.exp(log_ps)\n",
    "                    top_p, top_class = ps.topk(1, dim=1)\n",
    "                    equals = top_class == labels.view(*top_class.shape)\n",
    "                    accuracy += torch.mean(equals.type(torch.FloatTensor)).item()\n",
    "            print(f\"Epoch {e+1}/{n_epochs}.. \"\n",
    "                  f\"Loss: {running_loss/freq:.3f}.. \"\n",
    "                  f\"VLoss: {vloss/len(validtfl):.3f}.. \"\n",
    "                  f\"Acc: {accuracy/len(validtfl):.3f}\")\n",
    "            running_loss = 0\n",
    "            model1.train()"
   ]
  },
  {
   "cell_type": "markdown",
   "metadata": {},
   "source": [
    "## Testing your network\n",
    "\n",
    "It's good practice to test your trained network on test data, images the network has never seen either in training or validation. This will give you a good estimate for the model's performance on completely new images. Run the test images through the network and measure the accuracy, the same way you did validation. You should be able to reach around 70% accuracy on the test set if the model has been trained well."
   ]
  },
  {
   "cell_type": "code",
   "execution_count": 11,
   "metadata": {},
   "outputs": [
    {
     "name": "stdout",
     "output_type": "stream",
     "text": [
      "Test accuracy: 0.842\n"
     ]
    }
   ],
   "source": [
    "test_loss = 0\n",
    "accuracy = 0\n",
    "model1.to('cuda')\n",
    "\n",
    "with torch.no_grad():\n",
    "    for inputs, labels in testtfl:\n",
    "        inputs, labels = inputs.to('cuda'), labels.to('cuda')\n",
    "        \n",
    "        log_ps = model1.forward(inputs)\n",
    "        batch_loss = criterion(log_ps, labels)\n",
    "                    \n",
    "        test_loss += batch_loss.item()\n",
    "                    \n",
    "        ps = torch.exp(log_ps)\n",
    "        top_p, top_class = ps.topk(1, dim=1)\n",
    "        equals = top_class == labels.view(*top_class.shape)\n",
    "        accuracy += torch.mean(equals.type(torch.FloatTensor)).item()\n",
    "        \n",
    "print(f\"Test accuracy: {accuracy/len(testtfl):.3f}\")"
   ]
  },
  {
   "cell_type": "markdown",
   "metadata": {},
   "source": [
    "## Save the checkpoint\n",
    "\n",
    "Now that your network is trained, save the model so you can load it later for making predictions. You probably want to save other things such as the mapping of classes to indices which you get from one of the image datasets: `image_datasets['train'].class_to_idx`. You can attach this to the model as an attribute which makes inference easier later on.\n",
    "\n",
    "```model.class_to_idx = image_datasets['train'].class_to_idx```\n",
    "\n",
    "Remember that you'll want to completely rebuild the model later so you can use it for inference. Make sure to include any information you need in the checkpoint. If you want to load the model and keep training, you'll want to save the number of epochs as well as the optimizer state, `optimizer.state_dict`. You'll likely want to use this trained model in the next part of the project, so best to save it now."
   ]
  },
  {
   "cell_type": "code",
   "execution_count": 39,
   "metadata": {},
   "outputs": [],
   "source": [
    "# TODO: Save the checkpoint \n",
    "#model1.class_to_idx = train_data.class_to_idx\n",
    "bundle={'pretrained_model': 'vgg16',\n",
    "    'input_size': 25088,\n",
    "    'output_size': 102,\n",
    "    'learning_rate': 0.001,\n",
    "    'classifier': model1.classifier,\n",
    "    'epochs': n_epochs,\n",
    "    'state_dict': model1.state_dict(),\n",
    "    'optimizer' : optimizer.state_dict()\n",
    "}\n",
    "\n",
    "torch.save(bundle, 'vgg_checkpoint.pth')\n"
   ]
  },
  {
   "cell_type": "markdown",
   "metadata": {},
   "source": [
    "## Loading the checkpoint\n",
    "\n",
    "At this point it's good to write a function that can load a checkpoint and rebuild the model. That way you can come back to this project and keep working on it without having to retrain the network."
   ]
  },
  {
   "cell_type": "code",
   "execution_count": 40,
   "metadata": {},
   "outputs": [
    {
     "data": {
      "text/plain": [
       "VGG(\n",
       "  (features): Sequential(\n",
       "    (0): Conv2d(3, 64, kernel_size=(3, 3), stride=(1, 1), padding=(1, 1))\n",
       "    (1): ReLU(inplace)\n",
       "    (2): Conv2d(64, 64, kernel_size=(3, 3), stride=(1, 1), padding=(1, 1))\n",
       "    (3): ReLU(inplace)\n",
       "    (4): MaxPool2d(kernel_size=2, stride=2, padding=0, dilation=1, ceil_mode=False)\n",
       "    (5): Conv2d(64, 128, kernel_size=(3, 3), stride=(1, 1), padding=(1, 1))\n",
       "    (6): ReLU(inplace)\n",
       "    (7): Conv2d(128, 128, kernel_size=(3, 3), stride=(1, 1), padding=(1, 1))\n",
       "    (8): ReLU(inplace)\n",
       "    (9): MaxPool2d(kernel_size=2, stride=2, padding=0, dilation=1, ceil_mode=False)\n",
       "    (10): Conv2d(128, 256, kernel_size=(3, 3), stride=(1, 1), padding=(1, 1))\n",
       "    (11): ReLU(inplace)\n",
       "    (12): Conv2d(256, 256, kernel_size=(3, 3), stride=(1, 1), padding=(1, 1))\n",
       "    (13): ReLU(inplace)\n",
       "    (14): Conv2d(256, 256, kernel_size=(3, 3), stride=(1, 1), padding=(1, 1))\n",
       "    (15): ReLU(inplace)\n",
       "    (16): MaxPool2d(kernel_size=2, stride=2, padding=0, dilation=1, ceil_mode=False)\n",
       "    (17): Conv2d(256, 512, kernel_size=(3, 3), stride=(1, 1), padding=(1, 1))\n",
       "    (18): ReLU(inplace)\n",
       "    (19): Conv2d(512, 512, kernel_size=(3, 3), stride=(1, 1), padding=(1, 1))\n",
       "    (20): ReLU(inplace)\n",
       "    (21): Conv2d(512, 512, kernel_size=(3, 3), stride=(1, 1), padding=(1, 1))\n",
       "    (22): ReLU(inplace)\n",
       "    (23): MaxPool2d(kernel_size=2, stride=2, padding=0, dilation=1, ceil_mode=False)\n",
       "    (24): Conv2d(512, 512, kernel_size=(3, 3), stride=(1, 1), padding=(1, 1))\n",
       "    (25): ReLU(inplace)\n",
       "    (26): Conv2d(512, 512, kernel_size=(3, 3), stride=(1, 1), padding=(1, 1))\n",
       "    (27): ReLU(inplace)\n",
       "    (28): Conv2d(512, 512, kernel_size=(3, 3), stride=(1, 1), padding=(1, 1))\n",
       "    (29): ReLU(inplace)\n",
       "    (30): MaxPool2d(kernel_size=2, stride=2, padding=0, dilation=1, ceil_mode=False)\n",
       "  )\n",
       "  (classifier): Sequential(\n",
       "    (c1): Linear(in_features=25088, out_features=2048, bias=True)\n",
       "    (relu): ReLU()\n",
       "    (c2): Linear(in_features=2048, out_features=256, bias=True)\n",
       "    (c3): Linear(in_features=256, out_features=102, bias=True)\n",
       "    (o/p): LogSoftmax()\n",
       "  )\n",
       ")"
      ]
     },
     "execution_count": 40,
     "metadata": {},
     "output_type": "execute_result"
    }
   ],
   "source": [
    "# TODO: Write a function that loads a checkpoint and rebuilds the model\n",
    "def load_checkpoint(filepath):\n",
    "    checkpoint = torch.load(filepath, map_location=lambda storage, loc: storage)\n",
    "    _model = getattr(torchvision.models, checkpoint['pretrained_model'])(pretrained=True)\n",
    "    _model.input_size = checkpoint['input_size']\n",
    "    _model.output_size = checkpoint['output_size']\n",
    "    _model.learning_rate = checkpoint['learning_rate']\n",
    "    _model.classifier = checkpoint['classifier']\n",
    "    _model.epochs = checkpoint['epochs']\n",
    "    _model.load_state_dict(checkpoint['state_dict'])\n",
    "    _model.optimizer = checkpoint['optimizer']\n",
    "    return _model\n",
    "\n",
    "loaded_model = load_checkpoint('vgg_checkpoint.pth')  \n",
    "loaded_model\n"
   ]
  },
  {
   "cell_type": "markdown",
   "metadata": {},
   "source": [
    "# Inference for classification\n",
    "\n",
    "Now you'll write a function to use a trained network for inference. That is, you'll pass an image into the network and predict the class of the flower in the image. Write a function called `predict` that takes an image and a model, then returns the top $K$ most likely classes along with the probabilities. It should look like \n",
    "\n",
    "```python\n",
    "probs, classes = predict(image_path, model)\n",
    "print(probs)\n",
    "print(classes)\n",
    "> [ 0.01558163  0.01541934  0.01452626  0.01443549  0.01407339]\n",
    "> ['70', '3', '45', '62', '55']\n",
    "```\n",
    "\n",
    "First you'll need to handle processing the input image such that it can be used in your network. \n",
    "\n",
    "## Image Preprocessing\n",
    "\n",
    "You'll want to use `PIL` to load the image ([documentation](https://pillow.readthedocs.io/en/latest/reference/Image.html)). It's best to write a function that preprocesses the image so it can be used as input for the model. This function should process the images in the same manner used for training. \n",
    "\n",
    "First, resize the images where the shortest side is 256 pixels, keeping the aspect ratio. This can be done with the [`thumbnail`](http://pillow.readthedocs.io/en/3.1.x/reference/Image.html#PIL.Image.Image.thumbnail) or [`resize`](http://pillow.readthedocs.io/en/3.1.x/reference/Image.html#PIL.Image.Image.thumbnail) methods. Then you'll need to crop out the center 224x224 portion of the image.\n",
    "\n",
    "Color channels of images are typically encoded as integers 0-255, but the model expected floats 0-1. You'll need to convert the values. It's easiest with a Numpy array, which you can get from a PIL image like so `np_image = np.array(pil_image)`.\n",
    "\n",
    "As before, the network expects the images to be normalized in a specific way. For the means, it's `[0.485, 0.456, 0.406]` and for the standard deviations `[0.229, 0.224, 0.225]`. You'll want to subtract the means from each color channel, then divide by the standard deviation. \n",
    "\n",
    "And finally, PyTorch expects the color channel to be the first dimension but it's the third dimension in the PIL image and Numpy array. You can reorder dimensions using [`ndarray.transpose`](https://docs.scipy.org/doc/numpy-1.13.0/reference/generated/numpy.ndarray.transpose.html). The color channel needs to be first and retain the order of the other two dimensions."
   ]
  },
  {
   "cell_type": "code",
   "execution_count": 43,
   "metadata": {},
   "outputs": [
    {
     "data": {
      "text/plain": [
       "tensor([[[-1.5357, -1.5357, -1.5185,  ..., -1.5357, -1.5185, -1.5185],\n",
       "         [-1.5014, -1.5014, -1.5014,  ..., -1.5528, -1.5357, -1.5185],\n",
       "         [-1.5014, -1.4843, -1.4672,  ..., -1.5699, -1.5528, -1.5528],\n",
       "         ...,\n",
       "         [-0.7308, -0.7308, -0.7308,  ..., -1.4500, -1.4500, -1.4329],\n",
       "         [-0.7479, -0.7308, -0.7308,  ..., -1.4672, -1.4672, -1.4672],\n",
       "         [-0.7993, -0.7993, -0.7993,  ..., -1.4500, -1.4500, -1.4500]],\n",
       "\n",
       "        [[-0.7927, -0.7927, -0.7752,  ..., -1.0378, -1.0203, -1.0203],\n",
       "         [-0.7577, -0.7577, -0.7577,  ..., -1.0903, -1.0728, -1.0553],\n",
       "         [-0.7577, -0.7402, -0.7227,  ..., -1.1078, -1.0903, -1.0903],\n",
       "         ...,\n",
       "         [-0.3901, -0.4076, -0.4426,  ..., -0.7052, -0.7052, -0.6877],\n",
       "         [-0.4076, -0.4251, -0.4601,  ..., -0.6877, -0.6877, -0.6877],\n",
       "         [-0.4426, -0.4601, -0.4951,  ..., -0.6702, -0.6702, -0.6702]],\n",
       "\n",
       "        [[-1.1421, -1.1421, -1.1247,  ..., -1.1247, -1.1073, -1.0898],\n",
       "         [-1.1073, -1.1073, -1.1073,  ..., -1.1596, -1.1421, -1.1247],\n",
       "         [-1.1073, -1.0898, -1.0724,  ..., -1.1596, -1.1421, -1.1247],\n",
       "         ...,\n",
       "         [ 0.2871,  0.3219,  0.3393,  ..., -0.9504, -0.9330, -0.9156],\n",
       "         [ 0.1651,  0.2173,  0.2348,  ..., -0.9330, -0.9330, -0.9330],\n",
       "         [ 0.0953,  0.1476,  0.1651,  ..., -0.9156, -0.9156, -0.9156]]])"
      ]
     },
     "execution_count": 43,
     "metadata": {},
     "output_type": "execute_result"
    }
   ],
   "source": [
    "def prepare_image(image):\n",
    "    ''' Scales, crops, and normalizes a PIL image for a PyTorch model,\n",
    "        returns an Numpy array\n",
    "    '''\n",
    "    image_pil = Image.open(image)\n",
    "    image_transforms = transforms.Compose([transforms.Resize(256),\n",
    "                                         transforms.CenterCrop(224),\n",
    "                                         transforms.ToTensor(),\n",
    "                                         transforms.Normalize([0.485, 0.456, 0.406],\n",
    "                                                              [0.229, 0.224, 0.225])])\n",
    "    \n",
    "    image = image_transforms(image_pil)\n",
    "    \n",
    "    return image\n",
    "    \n",
    "prepare_image(\"flowers/test/10/image_07090.jpg\")\n",
    "    # TODO: Process a PIL image for use in a PyTorch model"
   ]
  },
  {
   "cell_type": "markdown",
   "metadata": {},
   "source": [
    "To check your work, the function below converts a PyTorch tensor and displays it in the notebook. If your `process_image` function works, running the output through this function should return the original image (except for the cropped out portions)."
   ]
  },
  {
   "cell_type": "code",
   "execution_count": null,
   "metadata": {},
   "outputs": [],
   "source": [
    "def imshow(image, ax=None, title=None):\n",
    "    \"\"\"Imshow for Tensor.\"\"\"\n",
    "    if ax is None:\n",
    "        fig, ax = plt.subplots()\n",
    "    \n",
    "    # PyTorch tensors assume the color channel is the first dimension\n",
    "    # but matplotlib assumes is the third dimension\n",
    "    image = image.numpy().transpose((1, 2, 0))\n",
    "    \n",
    "    # Undo preprocessing\n",
    "    mean = np.array([0.485, 0.456, 0.406])\n",
    "    std = np.array([0.229, 0.224, 0.225])\n",
    "    image = std * image + mean\n",
    "    \n",
    "    # Image needs to be clipped between 0 and 1 or it looks like noise when displayed\n",
    "    image = np.clip(image, 0, 1)\n",
    "    \n",
    "    ax.imshow(image)\n",
    "    \n",
    "    return ax"
   ]
  },
  {
   "cell_type": "markdown",
   "metadata": {},
   "source": [
    "## Class Prediction\n",
    "\n",
    "Once you can get images in the correct format, it's time to write a function for making predictions with your model. A common practice is to predict the top 5 or so (usually called top-$K$) most probable classes. You'll want to calculate the class probabilities then find the $K$ largest values.\n",
    "\n",
    "To get the top $K$ largest values in a tensor use [`x.topk(k)`](http://pytorch.org/docs/master/torch.html#torch.topk). This method returns both the highest `k` probabilities and the indices of those probabilities corresponding to the classes. You need to convert from these indices to the actual class labels using `class_to_idx` which hopefully you added to the model or from an `ImageFolder` you used to load the data ([see here](#Save-the-checkpoint)). Make sure to invert the dictionary so you get a mapping from index to class as well.\n",
    "\n",
    "Again, this method should take a path to an image and a model checkpoint, then return the probabilities and classes.\n",
    "\n",
    "```python\n",
    "probs, classes = predict(image_path, model)\n",
    "print(probs)\n",
    "print(classes)\n",
    "> [ 0.01558163  0.01541934  0.01452626  0.01443549  0.01407339]\n",
    "> ['70', '3', '45', '62', '55']\n",
    "```"
   ]
  },
  {
   "cell_type": "code",
   "execution_count": null,
   "metadata": {},
   "outputs": [],
   "source": [
    "def predict(image_path, model1, topk=5):\n",
    "    ''' Predict the class (or classes) of an image using a trained deep learning model.\n",
    "    '''\n",
    "    model1.to('cuda')\n",
    "    model1.eval()\n",
    "    img = prepare_image(image_path).numpy()\n",
    "    img = torch.from_numpy(np.array([img])).float()\n",
    "\n",
    "    with torch.no_grad():\n",
    "        logps = model1.forward(img.cuda())\n",
    "        \n",
    "    ans = torch.exp(logps).data\n",
    "    \n",
    "    return ans.topk(topk)\n",
    "    \n",
    "   "
   ]
  },
  {
   "cell_type": "code",
   "execution_count": null,
   "metadata": {},
   "outputs": [],
   "source": [
    "probs, classes = predict(\"flowers/test/10/image_07090.jpg\", model1)\n",
    "print (probs)\n",
    "print (classes)"
   ]
  },
  {
   "cell_type": "markdown",
   "metadata": {},
   "source": [
    "## Sanity Checking\n",
    "\n",
    "Now that you can use a trained model for predictions, check to make sure it makes sense. Even if the testing accuracy is high, it's always good to check that there aren't obvious bugs. Use `matplotlib` to plot the probabilities for the top 5 classes as a bar graph, along with the input image. It should look like this:\n",
    "\n",
    "<img src='assets/inference_example.png' width=300px>\n",
    "\n",
    "You can convert from the class integer encoding to actual flower names with the `cat_to_name.json` file (should have been loaded earlier in the notebook). To show a PyTorch tensor as an image, use the `imshow` function defined above."
   ]
  },
  {
   "cell_type": "code",
   "execution_count": null,
   "metadata": {},
   "outputs": [],
   "source": [
    "# TODO: Display an image along with the top 5 classes"
   ]
  },
  {
   "cell_type": "code",
   "execution_count": null,
   "metadata": {},
   "outputs": [],
   "source": [
    "plt.rcdefaults()\n",
    "fig, ax = plt.subplots()\n",
    "index = 1\n",
    "path = test_dir + '/1/image_06743.jpg'\n",
    "ps = predict(path, model1)\n",
    "image = prepare_image(path)\n",
    "ax1 = imshow(image, ax = plt)\n",
    "ax1.title(cat_to_name[str(index)])\n",
    "a1 = np.array(ps[0][0])\n",
    "b1 = [cat_to_name[str(index+1)] for index in np.array(ps[1][0])]\n",
    "fig,ax2 = plt.subplots(figsize=(5,5))\n",
    "y_pos = np.arange(5)\n",
    "ax2.set_yticks(y_pos)\n",
    "ax2.set_yticklabels(b1)\n",
    "ax2.set_xlabel('Prob %')\n",
    "ax2.invert_yaxis()\n",
    "ax2.barh(y_pos, a1)\n",
    "plt.show()"
   ]
  },
  {
   "cell_type": "markdown",
   "metadata": {},
   "source": [
    "<font color='red'>**Reminder for Workspace users:** If your network becomes very large when saved as a checkpoint, there might be issues with saving backups in your workspace. You should reduce the size of your hidden layers and train again. \n",
    "    \n",
    "We strongly encourage you to delete these large interim files and directories before navigating to another page or closing the browser tab.</font>"
   ]
  },
  {
   "cell_type": "code",
   "execution_count": null,
   "metadata": {},
   "outputs": [],
   "source": [
    "# TODO remove .pth files or move it to a temporary `~/opt` directory in this Workspace"
   ]
  },
  {
   "cell_type": "code",
   "execution_count": null,
   "metadata": {},
   "outputs": [],
   "source": []
  }
 ],
 "metadata": {
  "kernelspec": {
   "display_name": "Python 3",
   "language": "python",
   "name": "python3"
  },
  "language_info": {
   "codemirror_mode": {
    "name": "ipython",
    "version": 3
   },
   "file_extension": ".py",
   "mimetype": "text/x-python",
   "name": "python",
   "nbconvert_exporter": "python",
   "pygments_lexer": "ipython3",
   "version": "3.6.3"
  }
 },
 "nbformat": 4,
 "nbformat_minor": 2
}
